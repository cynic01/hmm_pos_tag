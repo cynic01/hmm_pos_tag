{
 "cells": [
  {
   "cell_type": "code",
   "execution_count": 7,
   "metadata": {},
   "outputs": [],
   "source": [
    "import re\n",
    "import sys\n",
    "import subprocess\n",
    "import numpy as np\n",
    "import pandas as pd"
   ]
  },
  {
   "cell_type": "code",
   "execution_count": 3,
   "metadata": {},
   "outputs": [],
   "source": [
    "TAG_FILE = 'data/ptb.2-21.tgs'\n",
    "TOKEN_FILE = 'data/ptb.2-21.txt'\n",
    "\n",
    "TAG_FILE_JV = 'data/jv.test.tgs'\n",
    "TOKEN_FILE_JV = 'data/jv.test.txt'\n",
    "\n",
    "TAG_FILE_BTB = 'data/btb.test.tgs'\n",
    "TOKEN_FILE_BTB = 'data/btb.test.txt'\n",
    "\n",
    "with open(TAG_FILE) as tag_file, open(TOKEN_FILE) as token_file:\n",
    "    tags_en = tag_file.readlines()\n",
    "    tags_en = [re.split(\"\\s+\", entry.rstrip()) for entry in tags_en]\n",
    "    tokens_en = token_file.readlines()\n",
    "    tokens_en = [re.split(\"\\s+\", entry.rstrip()) for entry in tokens_en]\n",
    "\n",
    "    if len(tags_en) != len(tokens_en):\n",
    "        raise ValueError(\"Length is different for two files!\")\n",
    "    \n",
    "with open(TAG_FILE_JV) as tag_file, open(TOKEN_FILE_JV) as token_file:\n",
    "    tags_jv = tag_file.readlines()\n",
    "    tags_jv = [re.split(\"\\s+\", entry.rstrip()) for entry in tags_jv]\n",
    "    tokens_jv = token_file.readlines()\n",
    "    tokens_jv = [re.split(\"\\s+\", entry.rstrip()) for entry in tokens_jv]\n",
    "\n",
    "    if len(tags_jv) != len(tokens_jv):\n",
    "        raise ValueError(\"Length is different for two files!\")\n",
    "    \n",
    "with open(TAG_FILE_BTB) as tag_file, open(TOKEN_FILE_BTB) as token_file:\n",
    "    tags_btb = tag_file.readlines()\n",
    "    tags_btb = [re.split(\"\\s+\", entry.rstrip()) for entry in tags_btb]\n",
    "    tokens_btb = token_file.readlines()\n",
    "    tokens_btb = [re.split(\"\\s+\", entry.rstrip()) for entry in tokens_btb]\n",
    "\n",
    "    if len(tags_btb) != len(tokens_btb):\n",
    "        raise ValueError(\"Length is different for two files!\")"
   ]
  },
  {
   "cell_type": "code",
   "execution_count": 12,
   "metadata": {},
   "outputs": [
    {
     "name": "stdout",
     "output_type": "stream",
     "text": [
      "en 23.850873669411527\n",
      "jv 8.055007052186177\n",
      "btb 14.909547738693467\n"
     ]
    }
   ],
   "source": [
    "print('en', np.mean([len(entry) for entry in tags_en]))\n",
    "print('jv', np.mean([len(entry) for entry in tags_jv]))\n",
    "print('btb', np.mean([len(entry) for entry in tags_btb]))"
   ]
  },
  {
   "cell_type": "code",
   "execution_count": 20,
   "metadata": {},
   "outputs": [
    {
     "data": {
      "text/plain": [
       "45"
      ]
     },
     "execution_count": 20,
     "metadata": {},
     "output_type": "execute_result"
    }
   ],
   "source": [
    "tagset_en = set()\n",
    "for entry in tags_en:\n",
    "    tagset_en.update(entry)\n",
    "len(tagset_en)"
   ]
  },
  {
   "cell_type": "code",
   "execution_count": 18,
   "metadata": {},
   "outputs": [
    {
     "data": {
      "text/plain": [
       "65"
      ]
     },
     "execution_count": 18,
     "metadata": {},
     "output_type": "execute_result"
    }
   ],
   "source": [
    "tagset_jv = set()\n",
    "for entry in tags_jv:\n",
    "    tagset_jv.update(entry)\n",
    "len(tagset_jv)"
   ]
  },
  {
   "cell_type": "code",
   "execution_count": 19,
   "metadata": {},
   "outputs": [
    {
     "data": {
      "text/plain": [
       "44"
      ]
     },
     "execution_count": 19,
     "metadata": {},
     "output_type": "execute_result"
    }
   ],
   "source": [
    "tagset_btb = set()\n",
    "for entry in tags_btb:\n",
    "    tagset_btb.update(entry)\n",
    "len(tagset_btb)"
   ]
  },
  {
   "cell_type": "code",
   "execution_count": 21,
   "metadata": {},
   "outputs": [
    {
     "data": {
      "text/plain": [
       "44389"
      ]
     },
     "execution_count": 21,
     "metadata": {},
     "output_type": "execute_result"
    }
   ],
   "source": [
    "vocab_en = set()\n",
    "for entry in tokens_en:\n",
    "    vocab_en.update(entry)\n",
    "len(vocab_en)"
   ]
  },
  {
   "cell_type": "code",
   "execution_count": 22,
   "metadata": {},
   "outputs": [
    {
     "data": {
      "text/plain": [
       "622"
      ]
     },
     "execution_count": 22,
     "metadata": {},
     "output_type": "execute_result"
    }
   ],
   "source": [
    "vocab_jv = set()\n",
    "for entry in tokens_jv:\n",
    "    vocab_jv.update(entry)\n",
    "len(vocab_jv)"
   ]
  },
  {
   "cell_type": "code",
   "execution_count": 23,
   "metadata": {},
   "outputs": [
    {
     "data": {
      "text/plain": [
       "2525"
      ]
     },
     "execution_count": 23,
     "metadata": {},
     "output_type": "execute_result"
    }
   ],
   "source": [
    "vocab_btb = set()\n",
    "for entry in tokens_btb:\n",
    "    vocab_btb.update(entry)\n",
    "len(vocab_btb)"
   ]
  },
  {
   "cell_type": "code",
   "execution_count": null,
   "metadata": {},
   "outputs": [],
   "source": []
  }
 ],
 "metadata": {
  "kernelspec": {
   "display_name": "w4705",
   "language": "python",
   "name": "python3"
  },
  "language_info": {
   "codemirror_mode": {
    "name": "ipython",
    "version": 3
   },
   "file_extension": ".py",
   "mimetype": "text/x-python",
   "name": "python",
   "nbconvert_exporter": "python",
   "pygments_lexer": "ipython3",
   "version": "3.10.13"
  }
 },
 "nbformat": 4,
 "nbformat_minor": 2
}
