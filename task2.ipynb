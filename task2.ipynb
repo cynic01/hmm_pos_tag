{
 "cells": [
  {
   "cell_type": "code",
   "execution_count": 8,
   "metadata": {},
   "outputs": [],
   "source": [
    "import re\n",
    "import sys\n",
    "import subprocess\n",
    "import seaborn as sns"
   ]
  },
  {
   "cell_type": "code",
   "execution_count": 5,
   "metadata": {},
   "outputs": [
    {
     "data": {
      "text/plain": [
       "[1000, 6000, 11000, 16000, 21000, 26000, 31000, 36000, 39832]"
      ]
     },
     "execution_count": 5,
     "metadata": {},
     "output_type": "execute_result"
    }
   ],
   "source": [
    "splits = list(range(1000, 40000, 5000))\n",
    "\n",
    "TAG_FILE = 'data/ptb.2-21.tgs'\n",
    "TOKEN_FILE = 'data/ptb.2-21.txt'\n",
    "\n",
    "with open(TAG_FILE) as tag_file, open(TOKEN_FILE) as token_file:\n",
    "    tags = tag_file.readlines()\n",
    "    tokens = token_file.readlines()\n",
    "\n",
    "    if len(tags) != len(tokens):\n",
    "        raise ValueError(\"Length is different for two files!\")\n",
    "    \n",
    "splits.append(len(tags))\n",
    "splits"
   ]
  },
  {
   "cell_type": "code",
   "execution_count": 6,
   "metadata": {},
   "outputs": [],
   "source": [
    "for split in splits:\n",
    "    tag_split = tags[:split]\n",
    "    token_split = tokens[:split]\n",
    "    with open(f'data/ptb.2-21.{split}.tgs', 'w') as tag_file, open(f'data/ptb.2-21.{split}.txt', 'w') as token_file:\n",
    "        tag_file.writelines(tag_split)\n",
    "        token_file.writelines(token_split)"
   ]
  },
  {
   "cell_type": "code",
   "execution_count": 14,
   "metadata": {},
   "outputs": [],
   "source": [
    "word_errors = []\n",
    "sent_errors = []\n",
    "for split in splits:\n",
    "    proc = subprocess.run(['python', 'train_hmm.py', f'data/ptb.2-21.{split}.tgs', f'data/ptb.2-21.{split}.txt'], capture_output=True)\n",
    "    with open(f'my_bigram_{split}.hmm', 'w') as hmm_file:\n",
    "        hmm_file.write(proc.stdout.decode())\n",
    "    proc = subprocess.run(['perl', 'viterbi.pl', f'my_bigram_{split}.hmm', '<', 'data/ptb.22.txt'], capture_output=True)\n",
    "    with open(f'my_bigram_{split}.out', 'w') as out_file:\n",
    "        out_file.write(proc.stdout.decode())\n",
    "    proc = subprocess.run(['python', 'tag_acc.py', 'data/ptb.22.tgs', f'my_bigram_{split}.out'], capture_output=True)\n",
    "    word_err, sent_err = re.findall(r':\\s+(.*)\\s+\\(', proc.stdout.decode())\n",
    "    word_errors.append(float(word_err.strip()))\n",
    "    sent_errors.append(float(sent_err.strip()))"
   ]
  },
  {
   "cell_type": "code",
   "execution_count": 20,
   "metadata": {},
   "outputs": [
    {
     "data": {
      "text/plain": [
       "[(1000, 0.28165117032679415, 0.9482352941176471),\n",
       " (6000, 0.1003315302739487, 0.7852941176470588),\n",
       " (11000, 0.07894408854101752, 0.7494117647058823),\n",
       " (16000, 0.0689732532342897, 0.7147058823529412),\n",
       " (21000, 0.0647605753171972, 0.701764705882353),\n",
       " (26000, 0.060074282723035125, 0.6864705882352942),\n",
       " (31000, 0.05748186554328589, 0.668235294117647),\n",
       " (36000, 0.05588653189420944, 0.6594117647058824),\n",
       " (39832, 0.05409178153899843, 0.6558823529411765)]"
      ]
     },
     "execution_count": 20,
     "metadata": {},
     "output_type": "execute_result"
    }
   ],
   "source": [
    "list(zip(splits, word_errors, sent_errors))"
   ]
  },
  {
   "cell_type": "code",
   "execution_count": 25,
   "metadata": {},
   "outputs": [
    {
     "data": {
      "text/plain": [
       "<Axes: >"
      ]
     },
     "execution_count": 25,
     "metadata": {},
     "output_type": "execute_result"
    },
    {
     "data": {
      "image/png": "[encoded data removed]",
      "text/plain": [
       "<Figure size 640x480 with 1 Axes>"
      ]
     },
     "metadata": {},
     "output_type": "display_data"
    }
   ],
   "source": [
    "sns.lineplot(x=splits, y=word_errors)\n",
    "sns.lineplot(x=splits, y=sent_errors)"
   ]
  },
  {
   "cell_type": "code",
   "execution_count": null,
   "metadata": {},
   "outputs": [],
   "source": []
  }
 ],
 "metadata": {
  "kernelspec": {
   "display_name": "w4705",
   "language": "python",
   "name": "python3"
  },
  "language_info": {
   "codemirror_mode": {
    "name": "ipython",
    "version": 3
   },
   "file_extension": ".py",
   "mimetype": "text/x-python",
   "name": "python",
   "nbconvert_exporter": "python",
   "pygments_lexer": "ipython3",
   "version": "3.10.13"
  }
 },
 "nbformat": 4,
 "nbformat_minor": 2
}
