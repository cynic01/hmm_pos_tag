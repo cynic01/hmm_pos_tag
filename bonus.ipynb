{
 "cells": [
  {
   "cell_type": "code",
   "execution_count": 1,
   "metadata": {},
   "outputs": [
    {
     "name": "stdout",
     "output_type": "stream",
     "text": [
      "env: CUDA_VISIBLE_DEVICES=0\n"
     ]
    }
   ],
   "source": [
    "%env CUDA_VISIBLE_DEVICES=0"
   ]
  },
  {
   "cell_type": "code",
   "execution_count": 2,
   "metadata": {},
   "outputs": [
    {
     "name": "stderr",
     "output_type": "stream",
     "text": [
      "Some weights of the model checkpoint at QCRI/bert-base-multilingual-cased-pos-english were not used when initializing BertForTokenClassification: ['bert.pooler.dense.bias', 'bert.pooler.dense.weight']\n",
      "- This IS expected if you are initializing BertForTokenClassification from the checkpoint of a model trained on another task or with another architecture (e.g. initializing a BertForSequenceClassification model from a BertForPreTraining model).\n",
      "- This IS NOT expected if you are initializing BertForTokenClassification from the checkpoint of a model that you expect to be exactly identical (initializing a BertForSequenceClassification model from a BertForSequenceClassification model).\n"
     ]
    }
   ],
   "source": [
    "from transformers import AutoTokenizer, AutoModelForTokenClassification, TokenClassificationPipeline\n",
    "\n",
    "model_name = \"QCRI/bert-base-multilingual-cased-pos-english\"\n",
    "tokenizer = AutoTokenizer.from_pretrained(model_name)\n",
    "model = AutoModelForTokenClassification.from_pretrained(model_name)"
   ]
  },
  {
   "cell_type": "code",
   "execution_count": 2,
   "metadata": {},
   "outputs": [
    {
     "name": "stdout",
     "output_type": "stream",
     "text": [
      "[{'entity': 'PRP', 'score': 0.99978024, 'index': 1, 'word': 'I', 'start': 0, 'end': 1}, {'entity': 'VBP', 'score': 0.99397415, 'index': 2, 'word': 'have', 'start': 2, 'end': 6}, {'entity': 'DT', 'score': 0.9997911, 'index': 3, 'word': 'an', 'start': 7, 'end': 9}, {'entity': 'NN', 'score': 0.99955875, 'index': 4, 'word': 'app', 'start': 10, 'end': 13}, {'entity': 'NN', 'score': 0.998628, 'index': 5, 'word': '##le', 'start': 13, 'end': 15}, {'entity': 'IN', 'score': 0.99978167, 'index': 6, 'word': 'in', 'start': 16, 'end': 18}, {'entity': 'PRP$', 'score': 0.99937016, 'index': 7, 'word': 'my', 'start': 19, 'end': 21}, {'entity': 'NN', 'score': 0.999726, 'index': 8, 'word': 'hand', 'start': 22, 'end': 26}, {'entity': ',', 'score': 0.9999348, 'index': 9, 'word': ',', 'start': 26, 'end': 27}, {'entity': 'IN', 'score': 0.94731224, 'index': 10, 'word': 'so', 'start': 28, 'end': 30}, {'entity': 'PRP', 'score': 0.99978155, 'index': 11, 'word': 'I', 'start': 31, 'end': 32}, {'entity': 'MD', 'score': 0.9996388, 'index': 12, 'word': 'would', 'start': 33, 'end': 38}, {'entity': 'VB', 'score': 0.9992424, 'index': 13, 'word': 'like', 'start': 39, 'end': 43}, {'entity': 'TO', 'score': 0.9999033, 'index': 14, 'word': 'to', 'start': 44, 'end': 46}, {'entity': 'VB', 'score': 0.99962723, 'index': 15, 'word': 'eat', 'start': 47, 'end': 50}, {'entity': 'PRP', 'score': 0.9998043, 'index': 16, 'word': 'it', 'start': 51, 'end': 53}, {'entity': '.', 'score': 0.99992716, 'index': 17, 'word': '.', 'start': 53, 'end': 54}]\n"
     ]
    }
   ],
   "source": [
    "pipeline = TokenClassificationPipeline(model=model, tokenizer=tokenizer)\n",
    "outputs = pipeline(\"I have an apple in my hand, so I would like to eat it.\")\n",
    "print(outputs)"
   ]
  },
  {
   "cell_type": "code",
   "execution_count": null,
   "metadata": {},
   "outputs": [],
   "source": []
  }
 ],
 "metadata": {
  "kernelspec": {
   "display_name": "lit-gpt",
   "language": "python",
   "name": "python3"
  },
  "language_info": {
   "codemirror_mode": {
    "name": "ipython",
    "version": 3
   },
   "file_extension": ".py",
   "mimetype": "text/x-python",
   "name": "python",
   "nbconvert_exporter": "python",
   "pygments_lexer": "ipython3",
   "version": "3.11.5"
  }
 },
 "nbformat": 4,
 "nbformat_minor": 2
}
